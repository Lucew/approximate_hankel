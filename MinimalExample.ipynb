{
 "nbformat": 4,
 "nbformat_minor": 0,
 "metadata": {
  "colab": {
   "provenance": []
  },
  "kernelspec": {
   "name": "python3",
   "display_name": "Python 3"
  },
  "language_info": {
   "name": "python"
  }
 },
 "cells": [
  {
   "cell_type": "code",
   "execution_count": 1,
   "metadata": {
    "colab": {
     "base_uri": "https://localhost:8080/"
    },
    "id": "dSgUMVuUxZxT",
    "outputId": "25dffffc-77d4-40cb-d62b-dd34715d38a6"
   },
   "outputs": [
    {
     "output_type": "stream",
     "name": "stdout",
     "text": [
      "Collecting git+https://github.com/Lucew/changepoynt.git@8c70dda856d758bcb6da1d2a313aa8cf81d5529b\n",
      "  Cloning https://github.com/Lucew/changepoynt.git (to revision 8c70dda856d758bcb6da1d2a313aa8cf81d5529b) to /tmp/pip-req-build-b1rgapn0\n",
      "  Running command git clone --filter=blob:none --quiet https://github.com/Lucew/changepoynt.git /tmp/pip-req-build-b1rgapn0\n",
      "  Running command git rev-parse -q --verify 'sha^8c70dda856d758bcb6da1d2a313aa8cf81d5529b'\n",
      "  Running command git fetch -q https://github.com/Lucew/changepoynt.git 8c70dda856d758bcb6da1d2a313aa8cf81d5529b\n",
      "  Resolved https://github.com/Lucew/changepoynt.git to commit 8c70dda856d758bcb6da1d2a313aa8cf81d5529b\n",
      "  Installing build dependencies ... \u001B[?25l\u001B[?25hdone\n",
      "  Getting requirements to build wheel ... \u001B[?25l\u001B[?25hdone\n",
      "  Preparing metadata (pyproject.toml) ... \u001B[?25l\u001B[?25hdone\n",
      "Requirement already satisfied: tqdm in /usr/local/lib/python3.12/dist-packages (4.67.1)\n",
      "Requirement already satisfied: numpy>=1.23.5 in /usr/local/lib/python3.12/dist-packages (from changepoynt==0.0.9) (2.0.2)\n",
      "Requirement already satisfied: numba>=0.56.4 in /usr/local/lib/python3.12/dist-packages (from changepoynt==0.0.9) (0.60.0)\n",
      "Requirement already satisfied: scipy>=1.10.1 in /usr/local/lib/python3.12/dist-packages (from changepoynt==0.0.9) (1.16.1)\n",
      "Collecting fbpca>=1.0 (from changepoynt==0.0.9)\n",
      "  Downloading fbpca-1.0.tar.gz (11 kB)\n",
      "  Preparing metadata (setup.py) ... \u001B[?25l\u001B[?25hdone\n",
      "Requirement already satisfied: matplotlib>=3.7.1 in /usr/local/lib/python3.12/dist-packages (from changepoynt==0.0.9) (3.10.0)\n",
      "Requirement already satisfied: stumpy>=1.11.1 in /usr/local/lib/python3.12/dist-packages (from changepoynt==0.0.9) (1.13.0)\n",
      "Collecting rocket-fft (from changepoynt==0.0.9)\n",
      "  Downloading rocket_fft-0.2.5-cp312-cp312-manylinux_2_17_x86_64.manylinux2014_x86_64.whl.metadata (6.4 kB)\n",
      "Requirement already satisfied: contourpy>=1.0.1 in /usr/local/lib/python3.12/dist-packages (from matplotlib>=3.7.1->changepoynt==0.0.9) (1.3.3)\n",
      "Requirement already satisfied: cycler>=0.10 in /usr/local/lib/python3.12/dist-packages (from matplotlib>=3.7.1->changepoynt==0.0.9) (0.12.1)\n",
      "Requirement already satisfied: fonttools>=4.22.0 in /usr/local/lib/python3.12/dist-packages (from matplotlib>=3.7.1->changepoynt==0.0.9) (4.59.1)\n",
      "Requirement already satisfied: kiwisolver>=1.3.1 in /usr/local/lib/python3.12/dist-packages (from matplotlib>=3.7.1->changepoynt==0.0.9) (1.4.9)\n",
      "Requirement already satisfied: packaging>=20.0 in /usr/local/lib/python3.12/dist-packages (from matplotlib>=3.7.1->changepoynt==0.0.9) (25.0)\n",
      "Requirement already satisfied: pillow>=8 in /usr/local/lib/python3.12/dist-packages (from matplotlib>=3.7.1->changepoynt==0.0.9) (11.3.0)\n",
      "Requirement already satisfied: pyparsing>=2.3.1 in /usr/local/lib/python3.12/dist-packages (from matplotlib>=3.7.1->changepoynt==0.0.9) (3.2.3)\n",
      "Requirement already satisfied: python-dateutil>=2.7 in /usr/local/lib/python3.12/dist-packages (from matplotlib>=3.7.1->changepoynt==0.0.9) (2.9.0.post0)\n",
      "Requirement already satisfied: llvmlite<0.44,>=0.43.0dev0 in /usr/local/lib/python3.12/dist-packages (from numba>=0.56.4->changepoynt==0.0.9) (0.43.0)\n",
      "Requirement already satisfied: six>=1.5 in /usr/local/lib/python3.12/dist-packages (from python-dateutil>=2.7->matplotlib>=3.7.1->changepoynt==0.0.9) (1.17.0)\n",
      "Downloading rocket_fft-0.2.5-cp312-cp312-manylinux_2_17_x86_64.manylinux2014_x86_64.whl (2.2 MB)\n",
      "\u001B[2K   \u001B[90m━━━━━━━━━━━━━━━━━━━━━━━━━━━━━━━━━━━━━━━━\u001B[0m \u001B[32m2.2/2.2 MB\u001B[0m \u001B[31m65.7 MB/s\u001B[0m eta \u001B[36m0:00:00\u001B[0m\n",
      "\u001B[?25hBuilding wheels for collected packages: changepoynt, fbpca\n",
      "  Building wheel for changepoynt (pyproject.toml) ... \u001B[?25l\u001B[?25hdone\n",
      "  Created wheel for changepoynt: filename=changepoynt-0.0.9-py3-none-any.whl size=58865 sha256=2439dfda165721f69d47b243f7809e8bb1722f4fda0bca8205879900f3f7093a\n",
      "  Stored in directory: /root/.cache/pip/wheels/62/58/cc/35c2e48766d2138fcf6314170f30f8dda203b7397edcc01781\n",
      "  Building wheel for fbpca (setup.py) ... \u001B[?25l\u001B[?25hdone\n",
      "  Created wheel for fbpca: filename=fbpca-1.0-py3-none-any.whl size=11373 sha256=90d0e52fae4c3fdc1dc08d014c5da436b168182937803a30c2579aca57dcd066\n",
      "  Stored in directory: /root/.cache/pip/wheels/04/15/cd/2f622795b09e83471a3be5d2581cd9cf96a6ec7aa78e8deffe\n",
      "Successfully built changepoynt fbpca\n",
      "Installing collected packages: fbpca, rocket-fft, changepoynt\n",
      "Successfully installed changepoynt-0.0.9 fbpca-1.0 rocket-fft-0.2.5\n"
     ]
    }
   ],
   "source": [
    "# Normally, you can just use `pip install changepoynt` but for reproducibility, we install a certain\n",
    "# commit from the package's GitHub repository.\n",
    "!pip install git+https://github.com/Lucew/changepoynt.git@8c70dda856d758bcb6da1d2a313aa8cf81d5529b tqdm"
   ]
  },
  {
   "cell_type": "code",
   "source": [
    "import time\n",
    "\n",
    "import numpy as np\n",
    "from tqdm import tqdm\n",
    "\n",
    "from changepoynt.algorithms.sst import SST"
   ],
   "metadata": {
    "id": "4n3QMsLhxer2"
   },
   "execution_count": 2,
   "outputs": []
  },
  {
   "cell_type": "code",
   "source": [
    "SIZE_FACTOR = 200"
   ],
   "metadata": {
    "id": "OS2QV4D_xi0o"
   },
   "execution_count": 3,
   "outputs": []
  },
  {
   "cell_type": "code",
   "source": [
    "# simulate a signal that goes from exponential decline into a sine wave\n",
    "# the signals is only for demonstration purposes and can be replaced by your signal\n",
    "steady_before = np.ones(20*SIZE_FACTOR)\n",
    "exp_signal = np.exp(-np.linspace(0, 5, 20*SIZE_FACTOR))\n",
    "steady_after = np.exp(-5)*np.ones(15)\n",
    "sine_after = 0.2*np.sin(np.linspace(0, 3*np.pi*10, 30*SIZE_FACTOR))\n",
    "signal = np.concatenate((steady_before, exp_signal, steady_after, sine_after))\n",
    "signal += 0.02*np.random.randn(signal.shape[0])  # add some minor noise"
   ],
   "metadata": {
    "id": "eoyz5TyQxl4A"
   },
   "execution_count": 4,
   "outputs": []
  },
  {
   "cell_type": "code",
   "source": [
    "# create each of the detectors\n",
    "# We enable the fast Hankel matrix product by: use_fast_hankel=True\n",
    "# In order to save time, we only compute the change score at ever 50th sample (scoring_step=50)\n",
    "window_size = 3*SIZE_FACTOR\n",
    "scoring_step = 50\n",
    "FFT_RSVD_SST = SST(window_size, method='rsvd', use_fast_hankel=True, scoring_step=scoring_step)\n",
    "RSVD_SST = SST(window_size, method='rsvd', scoring_step=scoring_step)\n",
    "FFT_IKA_SST = SST(window_size, method='ika', use_fast_hankel=True, scoring_step=scoring_step)\n",
    "IKA_SST = SST(window_size, method='ika', scoring_step=scoring_step)\n",
    "NAIVE_SVD = SST(window_size, method='naive', scoring_step=scoring_step)"
   ],
   "metadata": {
    "id": "mA9Jr8fHxnB9"
   },
   "execution_count": 5,
   "outputs": []
  },
  {
   "cell_type": "code",
   "source": [
    "# create an iterable with the detectors\n",
    "detectors = {f'{NAIVE_SVD=}'.split('=')[0]: NAIVE_SVD, f'{RSVD_SST=}'.split('=')[0]: RSVD_SST, f'{FFT_RSVD_SST=}'.split('=')[0]: FFT_RSVD_SST, f'{IKA_SST=}'.split('=')[0]:IKA_SST, f'{FFT_IKA_SST=}'.split('=')[0]: FFT_IKA_SST}\n",
    "namelength = max(len(key) for key in detectors.keys())"
   ],
   "metadata": {
    "id": "VD1Aij1txofZ"
   },
   "execution_count": 6,
   "outputs": []
  },
  {
   "cell_type": "code",
   "source": [
    "# go through each of the detectors (and keep the score of the naive method)\n",
    "# On a Google Colab instance, this takes about 4 minutes\n",
    "score = np.zeros_like(signal)\n",
    "durations = {name: 0.0 for name in detectors.keys()}\n",
    "errors = {name: -1 for name in detectors.keys()}\n",
    "for name, detector in tqdm(detectors.items(), desc=\"Running detectors\"):\n",
    "\n",
    "    # we have to trigger the JIT compiler first (otherwise we measure compile time)\n",
    "    if not name.startswith('NAIVE'):\n",
    "        _ = detector.transform(signal)\n",
    "\n",
    "    # apply the detectors\n",
    "    # as the decompositions are applied for several steps, we already get a balanced time measurement for several\n",
    "    # decompositions that accounts for processing time variations due to CPU scheduling\n",
    "    start = time.perf_counter()\n",
    "    method_score = detector.transform(signal)\n",
    "    durations[name] = time.perf_counter() - start\n",
    "\n",
    "    # create the ground truth from the naive method\n",
    "    if name.startswith('NAIVE'):\n",
    "        score = method_score\n",
    "\n",
    "    # compute the error\n",
    "    assert not np.all(score == 0), 'Naive method has to be the first.'\n",
    "    errors[name] = np.mean(np.abs(score - method_score))"
   ],
   "metadata": {
    "colab": {
     "base_uri": "https://localhost:8080/"
    },
    "id": "qepcAY_izgBA",
    "outputId": "e71423aa-afdf-4b88-c020-9380d657c226"
   },
   "execution_count": 7,
   "outputs": [
    {
     "output_type": "stream",
     "name": "stderr",
     "text": [
      "Running detectors: 100%|██████████| 5/5 [03:17<00:00, 39.43s/it]\n"
     ]
    }
   ]
  },
  {
   "cell_type": "code",
   "source": [
    "# print the results to console\n",
    "for name in detectors.keys():\n",
    "    duration = durations[name]\n",
    "    error = errors[name]\n",
    "    print(f\"{name: <{namelength}} took {duration:.2f} seconds for {signal.shape[0]//scoring_step} samples and N={window_size}.\")\n",
    "    print(f\"Mean absolute error to naive SST: {error:.3E}\")\n",
    "    print()"
   ],
   "metadata": {
    "colab": {
     "base_uri": "https://localhost:8080/"
    },
    "id": "urwmcW5Azh4a",
    "outputId": "ebc47e68-5bb6-48ef-a3a6-b070d14a5c63"
   },
   "execution_count": 8,
   "outputs": [
    {
     "output_type": "stream",
     "name": "stdout",
     "text": [
      "NAIVE_SVD    took 129.42 seconds for 280 samples and N=600.\n",
      "Mean absolute error to naive SST: 0.000E+00\n",
      "\n",
      "RSVD_SST     took 20.88 seconds for 280 samples and N=600.\n",
      "Mean absolute error to naive SST: 4.812E-06\n",
      "\n",
      "FFT_RSVD_SST took 3.97 seconds for 280 samples and N=600.\n",
      "Mean absolute error to naive SST: 4.789E-06\n",
      "\n",
      "IKA_SST      took 8.09 seconds for 280 samples and N=600.\n",
      "Mean absolute error to naive SST: 1.962E-05\n",
      "\n",
      "FFT_IKA_SST  took 0.38 seconds for 280 samples and N=600.\n",
      "Mean absolute error to naive SST: 1.519E-05\n",
      "\n"
     ]
    }
   ]
  },
  {
   "cell_type": "code",
   "source": [],
   "metadata": {
    "id": "mnK8trNMzjKv"
   },
   "execution_count": null,
   "outputs": []
  }
 ]
}
